{
  "cells": [
    {
      "cell_type": "markdown",
      "metadata": {
        "id": "qtL5BYT1dOoB"
      },
      "source": [
        "#Correct spellings with python"
      ]
    },
    {
      "cell_type": "code",
      "execution_count": 15,
      "metadata": {
        "id": "nWKSFMkQTxMZ"
      },
      "outputs": [],
      "source": [
        "#TextBlob is a python library and offers a simple API to access its methods and perform basic NLP tasks. \n",
        "#A good thing about TextBlob is that they are just like python strings. \n",
        "#So, you can transform and play with it same like we did in python."
      ]
    },
    {
      "cell_type": "code",
      "execution_count": 16,
      "metadata": {
        "id": "-Q-SdKGvUH62"
      },
      "outputs": [],
      "source": [
        "#Importing textblob library\n",
        "from textblob import TextBlob"
      ]
    },
    {
      "cell_type": "code",
      "execution_count": 17,
      "metadata": {
        "id": "8i6S4EbWULBG"
      },
      "outputs": [],
      "source": [
        "#Defining a function to return correct spelling for words.\n",
        "def correct_spell(words):    \n",
        "    correct_words = []\n",
        "    for i in words:\n",
        "        #converting the wrong_word in to correct spell word using textblob module\n",
        "        correct_words.append(TextBlob(i))\n",
        "    #printing the wrong and the corrected words\n",
        "    print(\"Wrong words :\", words)\n",
        "    print(\"Corrected Words are :\")\n",
        "    corrected_words=[]\n",
        "    for i in correct_words:\n",
        "        corrected_words.append(i.correct())\n",
        "    return corrected_words"
      ]
    },
    {
      "cell_type": "code",
      "execution_count": 18,
      "metadata": {
        "colab": {
          "base_uri": "https://localhost:8080/"
        },
        "id": "5XzlGu7gVB25",
        "outputId": "06d7606a-9cc6-4dca-ee54-e6c284306a55"
      },
      "outputs": [
        {
          "name": "stdout",
          "output_type": "stream",
          "text": [
            "Wrong words : ['learn', 'learnre', 'leatn']\n",
            "Corrected Words are :\n",
            "learn learner learn "
          ]
        }
      ],
      "source": [
        "#Giving our input in variable words\n",
        "words = [\"learn\",\"learnre\",\"leatn\"]\n",
        "#The function correct_spell returns the words with correct spellings\n",
        "correct_words=correct_spell(words)\n",
        "for i in correct_words:\n",
        "  print(i,end=\" \")"
      ]
    }
  ],
  "metadata": {
    "colab": {
      "name": "CorrectSpelling.ipynb",
      "provenance": []
    },
    "kernelspec": {
      "display_name": "Python 3.9.13 64-bit (windows store)",
      "language": "python",
      "name": "python3"
    },
    "language_info": {
      "codemirror_mode": {
        "name": "ipython",
        "version": 3
      },
      "file_extension": ".py",
      "mimetype": "text/x-python",
      "name": "python",
      "nbconvert_exporter": "python",
      "pygments_lexer": "ipython3",
      "version": "3.9.13"
    },
    "vscode": {
      "interpreter": {
        "hash": "07c3a98431b513a05678a4f58a817834c9b5da7a769e43c202a273289ce50c45"
      }
    }
  },
  "nbformat": 4,
  "nbformat_minor": 0
}
